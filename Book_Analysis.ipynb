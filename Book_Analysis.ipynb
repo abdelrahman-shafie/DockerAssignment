{
 "cells": [
  {
   "cell_type": "code",
   "execution_count": 21,
   "id": "4388eeac-c7f7-4a69-bd99-8c807eecbadb",
   "metadata": {},
   "outputs": [
    {
     "name": "stdout",
     "output_type": "stream",
     "text": [
      "Highest Selling Harry Potter Book(s):\n",
      "   book_id  goodreads_book_id  best_book_id  work_id  books_count        isbn  \\\n",
      "1        2                  3             3  4640799          491   439554934   \n",
      "6       18                  5             5  2402163          376  043965548X   \n",
      "9       23              15881         15881  6231171          398   439064864   \n",
      "\n",
      "         isbn13                                  authors  \\\n",
      "1  9.780440e+12              J.K. Rowling, Mary GrandPré   \n",
      "6  9.780440e+12  J.K. Rowling, Mary GrandPré, Rufus Beck   \n",
      "9  9.780439e+12              J.K. Rowling, Mary GrandPré   \n",
      "\n",
      "   original_publication_year                            original_title  ...  \\\n",
      "1                     1997.0  Harry Potter and the Philosopher's Stone  ...   \n",
      "6                     1999.0  Harry Potter and the Prisoner of Azkaban  ...   \n",
      "9                     1998.0   Harry Potter and the Chamber of Secrets  ...   \n",
      "\n",
      "  work_ratings_count work_text_reviews_count  ratings_1  ratings_2  ratings_3  \\\n",
      "1            4800065                   75867      75504     101676     455024   \n",
      "6            1969375                   36099       6716      20413     166129   \n",
      "9            1906199                   34172       8253      42251     242345   \n",
      "\n",
      "   ratings_4  ratings_5                                          image_url  \\\n",
      "1    1156318    3011543  https://images.gr-assets.com/books/1474154022m...   \n",
      "6     509447    1266670  https://images.gr-assets.com/books/1499277281m...   \n",
      "9     548266    1065084  https://images.gr-assets.com/books/1474169725m...   \n",
      "\n",
      "                                     small_image_url    Year  \n",
      "1  https://images.gr-assets.com/books/1474154022s...  1997.0  \n",
      "6  https://images.gr-assets.com/books/1499277281s...  1999.0  \n",
      "9  https://images.gr-assets.com/books/1474169725s...  1998.0  \n",
      "\n",
      "[3 rows x 24 columns]\n",
      "\n",
      "Average Rating of Harry Potter Books:\n",
      "4.482727272727273\n"
     ]
    }
   ],
   "source": [
    "import pandas as pd\n",
    "\n",
    "data_path = '/data/books.csv'\n",
    "\n",
    "df = pd.read_csv(data_path)\n",
    "\n",
    "df.isnull().sum()\n",
    "\n",
    "df['ratings_count'] = pd.to_numeric(df['ratings_count'], errors='coerce') \n",
    "\n",
    "df['average_rating'] = pd.to_numeric(df['average_rating'], errors='coerce')\n",
    "\n",
    "try:\n",
    "  df['Year'] = pd.to_numeric(df['original_publication_year'], errors='coerce')\n",
    "except:\n",
    "  print(\"Error: Converting 'original_publication_year' to numeric failed.\")\n",
    "  pass  \n",
    "\n",
    "hp_books = df[df['title'].str.contains('Harry Potter')]\n",
    "\n",
    "top_3_selling_hp = hp_books.nlargest(3, 'ratings_count')\n",
    "\n",
    "avg_rating_hp = hp_books['average_rating'].mean()\n",
    "\n",
    "print(\"Highest Selling Harry Potter Book(s):\")\n",
    "print(top_3_selling_hp)\n",
    "print(\"\\nAverage Rating of Harry Potter Books:\")\n",
    "print(avg_rating_hp)\n"
   ]
  },
  {
   "cell_type": "code",
   "execution_count": null,
   "id": "c6c6a41b-bb80-43ab-a1a1-7d8ab5a2eec1",
   "metadata": {},
   "outputs": [],
   "source": []
  }
 ],
 "metadata": {
  "kernelspec": {
   "display_name": "Python 3 (ipykernel)",
   "language": "python",
   "name": "python3"
  },
  "language_info": {
   "codemirror_mode": {
    "name": "ipython",
    "version": 3
   },
   "file_extension": ".py",
   "mimetype": "text/x-python",
   "name": "python",
   "nbconvert_exporter": "python",
   "pygments_lexer": "ipython3",
   "version": "3.11.8"
  }
 },
 "nbformat": 4,
 "nbformat_minor": 5
}
